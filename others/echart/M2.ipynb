{
 "cells": [
  {
   "cell_type": "markdown",
   "source": [
    "# 5."
   ],
   "metadata": {}
  },
  {
   "cell_type": "markdown",
   "source": [
    "## 5.1 html to markdown"
   ],
   "metadata": {}
  },
  {
   "cell_type": "code",
   "execution_count": null,
   "source": [
    "from markdownify import markdownify as md\r\n",
    "# 二次转换视频\r\n",
    "# 原始  <a href=\"dirname/v_name.mp4\"> </a> \r\n",
    "# 经md 转换后  [![1580400084168.mp4](dir_name/file_name.png)](dir_name/file_name.mp4)\r\n",
    "# 替换之后为 (dir_name/file_name.mp4)\r\n",
    "# 二次转化  <video src=\"dirname/v_name.mp4\"></video>\r\n",
    "# <video class=\"video-js\" controls preload=\"auto\" width=\"100%\" poster=\"\" data-setup='{\"aspectRatio\":\"16:9\"}'> <source src=\"dir_name/file_name.mp4\" type='video/mp4' > <p class=\"vjs-no-js\"> To view this video please enable JavaScript </p> </video>\r\n",
    "import re\r\n",
    "def gen_video_tag(s):\r\n",
    "    return re.sub('(?P<value>\\[.*?mp4\\))', video_match, s)\r\n",
    "\r\n",
    "def video_match(matched):\r\n",
    "    value = matched.group('value')\r\n",
    "    value = re.sub('(?P<value>\\[.*\\])', \"\\n\", value)\r\n",
    "    if value.endswith(\".mp4)\"):\r\n",
    "        # value = value.replace(\"(\",\"<video src=\\\"\").replace(\")\",\"\\\"></video>\")\r\n",
    "        s1 = \"<video class=\\\"video-js\\\" controls preload=\\\"auto\\\" width=\\\"100%\\\" poster=\\\"\\\" data-setup='{\\\"aspectRatio\\\":\\\"16:9\\\"}'> <source src=\\\"\"\r\n",
    "        s2 = \"\\\" type='video/mp4' > <p class=\\\"vjs-no-js\\\"> To view this video please enable JavaScript </p> </video>\" \r\n",
    "        value = value.replace(\"(\",s1).replace(\")\",s2)\r\n",
    "    return value\r\n",
    "# s = \"<div><a href=\\\"4.11 8 h  声控游戏  刷线程进程基础研究语音控制  小黑屋午睡下不为例 二哥百果_files/1580400084168.mp4\\\"><img src=\\\"4.11 8 h  声控游戏  刷线程进程基础研究语音控制  小黑屋午睡下不为例 二哥百果_files/07cc80e28ec6357bf86b517536b783e8.png\\\" alt=\\\"1580400084168.mp4\\\"></a></div>\"\r\n",
    "# s = md(s)\r\n",
    "# s +=s\r\n",
    "# # 提取 形如此类的字符串 (...)\r\n",
    "# print(gen_video_tag(s))\r\n",
    "def htmls_to_md(srcpath,descpath):\r\n",
    "    res = \"\"\r\n",
    "    # t0 = \"\"\r\n",
    "    for path in srcpath:\r\n",
    "        # 读取html格式文件\r\n",
    "        with open(path, 'r', encoding='UTF-8') as f:\r\n",
    "            htmlpage = f.read()\r\n",
    "        # 处理html格式文件中的内容\r\n",
    "            text = md(htmlpage)  \r\n",
    "            text = text.replace(\"body, td {\\n font-family: 微软雅黑;\\n font-size: 10pt;\\n }\\n\",\"\")\r\n",
    "            # 1.去除多余的换行\r\n",
    "            text = text.replace(\"\\n\\n\\n\\n\",\"\")\r\n",
    "            # 2.生成换行\r\n",
    "            text = text.replace(\"  \\n\",\"  \\n\\n\")\r\n",
    "            # 3.去掉特殊字符\r\n",
    "            text = text.replace(\"\\xa0\",\" \")\r\n",
    "            # 4.去掉标题  只去掉匹配的第一个\r\n",
    "            text = re.sub(r'\\n\\n.*\\n', \"\", text,1)\r\n",
    "            # 5.二次转化视频标签\r\n",
    "            text = gen_video_tag(text)\r\n",
    "            res +=text\r\n",
    "    with open(descpath, 'w', encoding='UTF-8') as f:\r\n",
    "        f.write(res)\r\n",
    "    # return res\r\n",
    "# srcpath = ['5.25 8.5h  折腾优化逻辑   对上传成功的照片时间逆序显示  情人节红包尬.html']\r\n",
    "# descpath = 'k.md'\r\n",
    "# htmls_to_md(srcpath,descpath)"
   ],
   "outputs": [],
   "metadata": {}
  },
  {
   "cell_type": "code",
   "execution_count": null,
   "source": [
    "from natsort import natsorted\r\n",
    "dir_name = \"../我的抗战2.0\"\r\n",
    "dirList = os.listdir(dir_name)\r\n",
    "htmlList = []\r\n",
    "for f in dirList:\r\n",
    "    if(f.endswith(\".html\")):\r\n",
    "        htmlList.append(f)\r\n",
    "# 按照数字开头进行排序 厉害\r\n",
    "htmlList = natsorted(htmlList)\r\n",
    "h_list = htmlList\r\n",
    "year_html_list = [htmlList[0:370],htmlList[370:725],htmlList[725:1071],htmlList[1071:]]\r\n",
    "h_lists = []\r\n",
    "years = ['2018','2019','2020','2021']\r\n",
    "\r\n",
    "for h_list,year in zip(year_html_list,years):\r\n",
    "    h_list = [dir_name + \"/\" + x for x in h_list]\r\n",
    "    h_lists.append(h_list)\r\n",
    "    # 将每年的30篇分为一组 \r\n",
    "    h_monthes = [h_list[i:i + 30] for i in range(0, len(h_list), 30)]\r\n",
    "    nums = [i for i in range(0, len(h_list), 30)]\r\n",
    "    nums.append(len(h_list))\r\n",
    "    index = 0\r\n",
    "    for month in h_monthes:\r\n",
    "        descpath = dir_name + \"/\" + year + \"_\"+str(nums[index]+1)+ \"_\"+str(nums[index+1]) +\".md\"\r\n",
    "        htmls_to_md(month,descpath)\r\n",
    "        index +=1\r\n",
    "    "
   ],
   "outputs": [],
   "metadata": {}
  },
  {
   "cell_type": "markdown",
   "source": [
    "## 5.1.2 html to single markdown"
   ],
   "metadata": {}
  },
  {
   "cell_type": "code",
   "execution_count": 11,
   "source": [
    "from markdownify import markdownify as md\r\n",
    "# 二次转换视频\r\n",
    "# 原始  <a href=\"dirname/v_name.mp4\"> </a> \r\n",
    "# 经md 转换后  [![1580400084168.mp4](dir_name/file_name.png)](dir_name/file_name.mp4)\r\n",
    "# 替换之后为 (dir_name/file_name.mp4)\r\n",
    "# 二次转化  <video src=\"dirname/v_name.mp4\"></video>\r\n",
    "# <video class=\"video-js\" controls preload=\"auto\" width=\"100%\" poster=\"\" data-setup='{\"aspectRatio\":\"16:9\"}'> <source src=\"dir_name/file_name.mp4\" type='video/mp4' > <p class=\"vjs-no-js\"> To view this video please enable JavaScript </p> </video>\r\n",
    "import re\r\n",
    "def gen_video_tag(s):\r\n",
    "    return re.sub('(?P<value>\\[.*?mp4\\))', video_match, s)\r\n",
    "\r\n",
    "def video_match(matched):\r\n",
    "    value = matched.group('value')\r\n",
    "    value = re.sub('(?P<value>\\[.*\\])', \"\\n\", value)\r\n",
    "    if value.endswith(\".mp4)\"):\r\n",
    "        # value = value.replace(\"(\",\"<video src=\\\"\").replace(\")\",\"\\\"></video>\")\r\n",
    "        s1 = \"<video class=\\\"video-js\\\" controls preload=\\\"auto\\\" width=\\\"100%\\\" poster=\\\"\\\" data-setup='{\\\"aspectRatio\\\":\\\"16:9\\\"}'> <source src=\\\"\"\r\n",
    "        s2 = \"\\\" type='video/mp4' > <p class=\\\"vjs-no-js\\\"> To view this video please enable JavaScript </p> </video>\" \r\n",
    "        value = value.replace(\"(\",s1).replace(\")\",s2)\r\n",
    "    return value\r\n",
    "\r\n",
    "def html_to_md(srcpath,title_list):\r\n",
    "    res = \"\"\r\n",
    "    res_filename=0\r\n",
    "    # 读取html格式文件\r\n",
    "    with open(srcpath, 'r', encoding='UTF-8') as f:\r\n",
    "        htmlpage = f.read()\r\n",
    "    # 处理html格式文件中的内容\r\n",
    "        text = md(htmlpage)  \r\n",
    "        text = text.replace(\"body, td {\\n font-family: 微软雅黑;\\n font-size: 10pt;\\n }\\n\",\"\")\r\n",
    "        # 1.去除多余的换行\r\n",
    "        text = text.replace(\"\\n\\n\\n\\n\",\"\")\r\n",
    "        # 2.生成换行\r\n",
    "        text = text.replace(\"  \\n\",\"  \\n\\n\")\r\n",
    "        # 3.去掉特殊字符\r\n",
    "        text = text.replace(\"\\xa0\",\" \")\r\n",
    "        # 4.去掉标题  只去掉匹配的第一个\r\n",
    "        text = re.sub(r'\\n\\n.*\\n', \"\", text,1)\r\n",
    "        # 5.二次转化视频标签\r\n",
    "        text = gen_video_tag(text)\r\n",
    "        res +=text\r\n",
    "    \r\n",
    "        (path, filename) = os.path.split(srcpath)\r\n",
    "        # 将多个 空格  转化为一个 _\r\n",
    "        filename = re.sub(' +', \"_\", filename)\r\n",
    "        # 分割文件名和文件类型\r\n",
    "        (filename, ext) = os.path.splitext(filename)\r\n",
    "        # print(path + \"/\"+ filename + \".md\")\r\n",
    "        # 命名时需要与 title相对应 写全名\r\n",
    "        \r\n",
    "        res_filename = get_full_title(title_list,filename)\r\n",
    "       \r\n",
    "        if(res_filename == 0):\r\n",
    "            res_filename = filename\r\n",
    "    with open(path + \"/\"+ res_filename + \".md\", 'w', encoding='UTF-8') as f:\r\n",
    "        f.write(res)\r\n",
    "        "
   ],
   "outputs": [],
   "metadata": {}
  },
  {
   "cell_type": "code",
   "execution_count": 13,
   "source": [
    "dir_name = \"../我的抗战2.0\"\r\n",
    "dirList = os.listdir(dir_name)\r\n",
    "res_path = \"../info.csv\"\r\n",
    "df=pd.read_csv(res_path,header=0,sep=',')   \r\n",
    "title_list = list(df.title) \r\n",
    "for f in dirList:\r\n",
    "    if(f.endswith(\".html\")):\r\n",
    "        # print(f)\r\n",
    "        html_to_md(dir_name + \"/\" + f,title_list)"
   ],
   "outputs": [],
   "metadata": {}
  },
  {
   "cell_type": "code",
   "execution_count": 10,
   "source": [
    "def get_full_title(title_list,filename):\r\n",
    "    for x in title_list:\r\n",
    "        x = str(x)\r\n",
    "        if(x[:len(filename)] == filename):\r\n",
    "            return x\r\n",
    "    # 表示未找到\r\n",
    "    return 0\r\n",
    "import pandas as pd\r\n",
    "res_path = \"../info.csv\"\r\n",
    "df=pd.read_csv(res_path,header=0,sep=',') \r\n",
    "filename = \"2.4_魔都之初体验\"  \r\n",
    "# 2.112_搞学习_静静闹矛盾_跑步_夕阳很美很美我许下了梦想_开始给静静做我们 2.11来老姐家看鸡宝宝\r\n",
    "# 2.113_搞学习_午休有点懒_买芒果_锻炼看电影_被静静君嫌弃心里失落 2.11来老姐家看鸡宝宝 \r\n",
    "title_list = list(df.title) \r\n",
    "get_full_title(title_list,filename)"
   ],
   "outputs": [
    {
     "output_type": "execute_result",
     "data": {
      "text/plain": [
       "'2.4_魔都之初体验_300公里每小时超贵的磁悬浮_很多的老外_赚314'"
      ]
     },
     "metadata": {},
     "execution_count": 10
    }
   ],
   "metadata": {}
  },
  {
   "cell_type": "code",
   "execution_count": null,
   "source": [],
   "outputs": [],
   "metadata": {}
  },
  {
   "cell_type": "code",
   "execution_count": null,
   "source": [],
   "outputs": [],
   "metadata": {}
  },
  {
   "cell_type": "code",
   "execution_count": null,
   "source": [],
   "outputs": [],
   "metadata": {}
  },
  {
   "cell_type": "code",
   "execution_count": null,
   "source": [],
   "outputs": [],
   "metadata": {}
  },
  {
   "cell_type": "markdown",
   "source": [
    "## 5.2 将 md 在网页中显示"
   ],
   "metadata": {}
  },
  {
   "cell_type": "code",
   "execution_count": 9,
   "source": [
    "# (40')1.输入一句英文(含空格)，求\r\n",
    "# (1)统计英文单词个数(10')\r\n",
    "# (2)统计字符个数(10')\r\n",
    "# (3)查找出现次数最多的字符(可能不止一个)，要求全部给出并输出出现的次数(20')\r\n",
    "# 以上输出均不区分大小写\r\n",
    "# 例如 this is A pencil Case\r\n",
    "# 输出:\r\n",
    "# 英文单词数:5\r\n",
    "# 字符个数:17\r\n",
    "# 出现最多字符:i,s\r\n",
    "# 出现次数:3\r\n",
    "s = \"this is A pencil Case\"\r\n",
    "words = s.split(\" \")\r\n",
    "print(\"英文单词数: \",len(words))\r\n",
    "print(\"字符个数: \",len(s.replace(\" \",\"\")))\r\n",
    "s0 = []\r\n",
    "count =0\r\n",
    "for x in s:\r\n",
    "    if x not in s0:\r\n",
    "        count +=1\r\n",
    "        s0.append(x)\r\n",
    "print(\"字符个数: \",count)\r\n"
   ],
   "outputs": [
    {
     "output_type": "stream",
     "name": "stdout",
     "text": [
      "英文单词数:  5\n",
      "字符个数:  17\n",
      "字符个数:  13\n"
     ]
    }
   ],
   "metadata": {}
  }
 ],
 "metadata": {
  "orig_nbformat": 4,
  "language_info": {
   "name": "python",
   "version": "3.6.5",
   "mimetype": "text/x-python",
   "codemirror_mode": {
    "name": "ipython",
    "version": 3
   },
   "pygments_lexer": "ipython3",
   "nbconvert_exporter": "python",
   "file_extension": ".py"
  },
  "kernelspec": {
   "name": "python3",
   "display_name": "Python 3.6.5 32-bit"
  },
  "interpreter": {
   "hash": "ec7c6df8f2f99fa20fbf736f60336ad208c85ecac47a89374b2e832ec7eb482e"
  }
 },
 "nbformat": 4,
 "nbformat_minor": 2
}