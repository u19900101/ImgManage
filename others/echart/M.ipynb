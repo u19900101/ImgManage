{
 "cells": [
  {
   "cell_type": "markdown",
   "source": [
    "# 1.从html提取信息写入csv"
   ],
   "metadata": {}
  },
  {
   "cell_type": "code",
   "execution_count": 2,
   "source": [
    "# 调用外部的py\r\n",
    "from demo import *\r\n",
    "hello()"
   ],
   "outputs": [
    {
     "output_type": "error",
     "ename": "NameError",
     "evalue": "name 'hello' is not defined",
     "traceback": [
      "\u001b[1;31m---------------------------------------------------------------------------\u001b[0m",
      "\u001b[1;31mNameError\u001b[0m                                 Traceback (most recent call last)",
      "\u001b[1;32m<ipython-input-2-2ee1507a1326>\u001b[0m in \u001b[0;36m<module>\u001b[1;34m\u001b[0m\n\u001b[0;32m      1\u001b[0m \u001b[1;31m# 调用外部的py\u001b[0m\u001b[1;33m\u001b[0m\u001b[1;33m\u001b[0m\u001b[0m\n\u001b[0;32m      2\u001b[0m \u001b[1;32mfrom\u001b[0m \u001b[0mdemo\u001b[0m \u001b[1;32mimport\u001b[0m \u001b[1;33m*\u001b[0m\u001b[1;33m\u001b[0m\u001b[0m\n\u001b[1;32m----> 3\u001b[1;33m \u001b[0mhello\u001b[0m\u001b[1;33m(\u001b[0m\u001b[1;33m)\u001b[0m\u001b[1;33m\u001b[0m\u001b[0m\n\u001b[0m\u001b[0;32m      4\u001b[0m \u001b[1;33m\u001b[0m\u001b[0m\n",
      "\u001b[1;31mNameError\u001b[0m: name 'hello' is not defined"
     ]
    }
   ],
   "metadata": {}
  },
  {
   "cell_type": "markdown",
   "source": [
    "# 2.将空缺的日期补齐"
   ],
   "metadata": {}
  },
  {
   "cell_type": "code",
   "execution_count": null,
   "source": [
    "import pandas as pd\r\n",
    "import numpy as np\r\n",
    "from datetime import datetime\r\n",
    "# First：找到没有进行创作的日子\r\n",
    "# 1.读取文件 第一行为列名称\r\n",
    "df=pd.read_csv('../csv绘图/info.csv',header=0,sep=',') #filename可以直接从盘符开始，标明每一级的文件夹直到csv文件，header=None表示头部为空，sep=' '表示数据间使用空格作为分隔符，如果分隔符是逗号，只需换成 ‘，’即可。\r\n",
    "# 2.按日期进行升序排列\r\n",
    "df2 = df.sort_values(by='day')\r\n",
    "# 3.提取出 day列  将其转化为 yyyy/mm/dd的格式  将 str=2017/1/27 23:06  转化为  datetime类型\r\n",
    "d1 = [datetime.strptime(x, '%Y/%m/%d %H:%M') for x in list(df2[\"day\"])]\r\n",
    "#       将 datetime 转化为 str 2017/01/27\r\n",
    "d_2017 = [datetime.strftime(x, '%Y/%m/%d') for x in list(d1)]\r\n",
    "# 4.创建全年的日子\r\n",
    "all_2017=[datetime.strftime(x,'%Y/%m/%d') for x in list(pd.date_range(start='2017/01/01',  end=\"2017/12/31\"))]\r\n",
    "# 5.将上两项做差求出没有记录的日子\r\n",
    "absent_2017 = [i for i in all_2017 if i not in d_2017]\r\n",
    "\r\n",
    "# 6.将没有记录的日子进行补充  [day:当天,title:空,longitude,latitude,num:0]\r\n",
    "dataframe = pd.DataFrame({'day': absent_2017,\r\n",
    "                            'title': [None]*len(absent_2017),\r\n",
    "                            'longitude': [None]*len(absent_2017),\r\n",
    "                            'latitude': [None]*len(absent_2017),\r\n",
    "                            'num': [0]*len(absent_2017)})\r\n",
    "dataframe.to_csv(\"./info.csv\",index=False, sep=',',mode='a', header=False)\r\n"
   ],
   "outputs": [],
   "metadata": {}
  },
  {
   "cell_type": "code",
   "execution_count": null,
   "source": [
    "absent_2017 = ['2017/07/10','2017/07/12','2017/07/11']\r\n",
    "absent_2017_np = [time.mktime(time.strptime(x, '%Y/%m/%d')) for x in absent_2017]"
   ],
   "outputs": [],
   "metadata": {}
  },
  {
   "cell_type": "code",
   "execution_count": null,
   "source": [
    "from datetime import datetime\r\n",
    "import time       \r\n",
    "timeArray = time.strptime('2017/7/11 00:00', '%Y/%m/%d %H:%M')\r\n",
    "#转换成时间戳\r\n",
    "time.mktime(timeArray)     "
   ],
   "outputs": [],
   "metadata": {}
  },
  {
   "cell_type": "code",
   "execution_count": null,
   "source": [
    "absent_2017_np"
   ],
   "outputs": [],
   "metadata": {}
  },
  {
   "cell_type": "markdown",
   "source": [],
   "metadata": {}
  },
  {
   "cell_type": "markdown",
   "source": [
    "# 3.处理重复的日子"
   ],
   "metadata": {}
  },
  {
   "cell_type": "markdown",
   "source": [
    "## 3.1 手动修改日期 并检查查看"
   ],
   "metadata": {}
  },
  {
   "cell_type": "code",
   "execution_count": 18,
   "source": [
    "import pandas as pd\r\n",
    "import numpy as np\r\n",
    "from datetime import datetime\r\n",
    "\r\n",
    "# First：找到没有进行创作的日子\r\n",
    "# 1.读取文件 第一行为列名称\r\n",
    "df=pd.read_csv('./data/我的抗战1.0_info.csv',header=0,sep=',') \r\n",
    "# 手动修改 日期  \r\n",
    "\r\n",
    "# 截取day的date————2017/02/02  是否唯一进行检查\r\n",
    "M = [x.split(\" \")[0] for x in df[\"day\"].tolist()]\r\n",
    "# 给原 df加一列 date\r\n",
    "df['day_date'] = M\r\n",
    "# 得到date重复的行  保留出现第一次的值  duplicated(keep=False)\r\n",
    "day_date = df[df['day_date'].duplicated(keep=False)]\r\n",
    "M = day_date[['day','title','day_date']]\r\n",
    "M[2:]"
   ],
   "outputs": [
    {
     "output_type": "execute_result",
     "data": {
      "text/plain": [
       "    day               title                                               \\\n",
       "132  2017/05/12 11:00                         111 三颗星来，没信号， 站岗和两只bing聊黑暗   \n",
       "133  2017/05/12 11:03                               112 计划 一年的时间 学习离开的本领   \n",
       "139  2017/05/18 12:09  117 张哥生日大战 喝多了，后来都走不回来，直接睡郭哥的床了，半夜张哥打游戏被吵醒，然后难...   \n",
       "140  2017/05/18 12:12                   118 醉酒后的头疼 再也不多喝 我是一名安全员 搞到一个大砗磲   \n",
       "266  2017/09/21 21:45                         242 归期 发表状态 二哥家火锅 宇华哥开车来接机   \n",
       "267  2017/09/21 21:47                              243 书店看书 请方远吃饭 老姐家的螃蟹   \n",
       "268  2017/09/21 21:49  244 华科小聚 年薪50w的西西 很有思辨能力的博导 会酿酒的大肠 军训的娃娃 吃个冰淇淋...   \n",
       "293  2017/10/16 09:23                              268 舅舅家小姨家团聚 教妍妍咪咪做作业   \n",
       "294  2017/10/16 22:41                               269 姐姐姐夫送别宴  突然间有些伤感   \n",
       "295  2017/10/17 22:16  270 回单位  老姐五点起床送我坐机场大巴  匆忙赶车  安检小妹不耐烦  邻座斗鱼武汉 ...   \n",
       "296  2017/10/17 03:11  271 休假回家日常开支2600+机票1300  站岗补觉  不适应老张的夜间体能   和爸...   \n",
       "340  2017/11/30 08:19     314 押运第二天 过了24个小时后还是晕的不行 吃了几口肉 泡面都没吃完 美妙的橘子皮味道   \n",
       "341  2017/11/30 15:03  315 -8153/-2736  迷失的24小时国电跳水今天精神一动不动  但我坚信他回涨回...   \n",
       "343  2017/12/02 10:34                 316 第四天 看物资   看了一天的电视剧 黑洞 来到了美腻的美纪   \n",
       "344  2017/12/02 21:33                           317 第五天 看钓鱼看剧  新地点 东门 打牌   \n",
       "348  2017/12/06 04:06                                         320 回程 漂阿漂   \n",
       "349  2017/12/06 04:07                              321 继续漂阿漂  航补难挣再也不想坐船   \n",
       "351  2017/12/08 23:08            322 马不停蹄的赶路累成狗 下船 蹭车 打的 大巴四个半小时回来 航补不容易   \n",
       "352  2017/12/08 23:14          323  -1.27%都翻红国电还是萎靡  代领打草 打牌开始狂赢后来戴了六个帽子   \n",
       "393  2018/01/18 15:04  364 小赚133  看书  加勒比海盗2  应该理由更充分的拒绝过年去帮工  看永辉  看...   \n",
       "394  2018/01/18 17:04                                              经济账规划   \n",
       "\n",
       "    day_date     \n",
       "132  2017/05/12  \n",
       "133  2017/05/12  \n",
       "139  2017/05/18  \n",
       "140  2017/05/18  \n",
       "266  2017/09/21  \n",
       "267  2017/09/21  \n",
       "268  2017/09/21  \n",
       "293  2017/10/16  \n",
       "294  2017/10/16  \n",
       "295  2017/10/17  \n",
       "296  2017/10/17  \n",
       "340  2017/11/30  \n",
       "341  2017/11/30  \n",
       "343  2017/12/02  \n",
       "344  2017/12/02  \n",
       "348  2017/12/06  \n",
       "349  2017/12/06  \n",
       "351  2017/12/08  \n",
       "352  2017/12/08  \n",
       "393  2018/01/18  \n",
       "394  2018/01/18  "
      ],
      "text/html": [
       "<div>\n",
       "<style scoped>\n",
       "    .dataframe tbody tr th:only-of-type {\n",
       "        vertical-align: middle;\n",
       "    }\n",
       "\n",
       "    .dataframe tbody tr th {\n",
       "        vertical-align: top;\n",
       "    }\n",
       "\n",
       "    .dataframe thead th {\n",
       "        text-align: right;\n",
       "    }\n",
       "</style>\n",
       "<table border=\"1\" class=\"dataframe\">\n",
       "  <thead>\n",
       "    <tr style=\"text-align: left;\">\n",
       "      <th></th>\n",
       "      <th>day</th>\n",
       "      <th>title</th>\n",
       "      <th>day_date</th>\n",
       "    </tr>\n",
       "  </thead>\n",
       "  <tbody>\n",
       "    <tr>\n",
       "      <th>132</th>\n",
       "      <td>2017/05/12 11:00</td>\n",
       "      <td>111 三颗星来，没信号， 站岗和两只bing聊黑暗</td>\n",
       "      <td>2017/05/12</td>\n",
       "    </tr>\n",
       "    <tr>\n",
       "      <th>133</th>\n",
       "      <td>2017/05/12 11:03</td>\n",
       "      <td>112 计划 一年的时间 学习离开的本领</td>\n",
       "      <td>2017/05/12</td>\n",
       "    </tr>\n",
       "    <tr>\n",
       "      <th>139</th>\n",
       "      <td>2017/05/18 12:09</td>\n",
       "      <td>117 张哥生日大战 喝多了，后来都走不回来，直接睡郭哥的床了，半夜张哥打游戏被吵醒，然后难...</td>\n",
       "      <td>2017/05/18</td>\n",
       "    </tr>\n",
       "    <tr>\n",
       "      <th>140</th>\n",
       "      <td>2017/05/18 12:12</td>\n",
       "      <td>118 醉酒后的头疼 再也不多喝 我是一名安全员 搞到一个大砗磲</td>\n",
       "      <td>2017/05/18</td>\n",
       "    </tr>\n",
       "    <tr>\n",
       "      <th>266</th>\n",
       "      <td>2017/09/21 21:45</td>\n",
       "      <td>242 归期 发表状态 二哥家火锅 宇华哥开车来接机</td>\n",
       "      <td>2017/09/21</td>\n",
       "    </tr>\n",
       "    <tr>\n",
       "      <th>267</th>\n",
       "      <td>2017/09/21 21:47</td>\n",
       "      <td>243 书店看书 请方远吃饭 老姐家的螃蟹</td>\n",
       "      <td>2017/09/21</td>\n",
       "    </tr>\n",
       "    <tr>\n",
       "      <th>268</th>\n",
       "      <td>2017/09/21 21:49</td>\n",
       "      <td>244 华科小聚 年薪50w的西西 很有思辨能力的博导 会酿酒的大肠 军训的娃娃 吃个冰淇淋...</td>\n",
       "      <td>2017/09/21</td>\n",
       "    </tr>\n",
       "    <tr>\n",
       "      <th>293</th>\n",
       "      <td>2017/10/16 09:23</td>\n",
       "      <td>268 舅舅家小姨家团聚 教妍妍咪咪做作业</td>\n",
       "      <td>2017/10/16</td>\n",
       "    </tr>\n",
       "    <tr>\n",
       "      <th>294</th>\n",
       "      <td>2017/10/16 22:41</td>\n",
       "      <td>269 姐姐姐夫送别宴  突然间有些伤感</td>\n",
       "      <td>2017/10/16</td>\n",
       "    </tr>\n",
       "    <tr>\n",
       "      <th>295</th>\n",
       "      <td>2017/10/17 22:16</td>\n",
       "      <td>270 回单位  老姐五点起床送我坐机场大巴  匆忙赶车  安检小妹不耐烦  邻座斗鱼武汉 ...</td>\n",
       "      <td>2017/10/17</td>\n",
       "    </tr>\n",
       "    <tr>\n",
       "      <th>296</th>\n",
       "      <td>2017/10/17 03:11</td>\n",
       "      <td>271 休假回家日常开支2600+机票1300  站岗补觉  不适应老张的夜间体能   和爸...</td>\n",
       "      <td>2017/10/17</td>\n",
       "    </tr>\n",
       "    <tr>\n",
       "      <th>340</th>\n",
       "      <td>2017/11/30 08:19</td>\n",
       "      <td>314 押运第二天 过了24个小时后还是晕的不行 吃了几口肉 泡面都没吃完 美妙的橘子皮味道</td>\n",
       "      <td>2017/11/30</td>\n",
       "    </tr>\n",
       "    <tr>\n",
       "      <th>341</th>\n",
       "      <td>2017/11/30 15:03</td>\n",
       "      <td>315 -8153/-2736  迷失的24小时国电跳水今天精神一动不动  但我坚信他回涨回...</td>\n",
       "      <td>2017/11/30</td>\n",
       "    </tr>\n",
       "    <tr>\n",
       "      <th>343</th>\n",
       "      <td>2017/12/02 10:34</td>\n",
       "      <td>316 第四天 看物资   看了一天的电视剧 黑洞 来到了美腻的美纪</td>\n",
       "      <td>2017/12/02</td>\n",
       "    </tr>\n",
       "    <tr>\n",
       "      <th>344</th>\n",
       "      <td>2017/12/02 21:33</td>\n",
       "      <td>317 第五天 看钓鱼看剧  新地点 东门 打牌</td>\n",
       "      <td>2017/12/02</td>\n",
       "    </tr>\n",
       "    <tr>\n",
       "      <th>348</th>\n",
       "      <td>2017/12/06 04:06</td>\n",
       "      <td>320 回程 漂阿漂</td>\n",
       "      <td>2017/12/06</td>\n",
       "    </tr>\n",
       "    <tr>\n",
       "      <th>349</th>\n",
       "      <td>2017/12/06 04:07</td>\n",
       "      <td>321 继续漂阿漂  航补难挣再也不想坐船</td>\n",
       "      <td>2017/12/06</td>\n",
       "    </tr>\n",
       "    <tr>\n",
       "      <th>351</th>\n",
       "      <td>2017/12/08 23:08</td>\n",
       "      <td>322 马不停蹄的赶路累成狗 下船 蹭车 打的 大巴四个半小时回来 航补不容易</td>\n",
       "      <td>2017/12/08</td>\n",
       "    </tr>\n",
       "    <tr>\n",
       "      <th>352</th>\n",
       "      <td>2017/12/08 23:14</td>\n",
       "      <td>323  -1.27%都翻红国电还是萎靡  代领打草 打牌开始狂赢后来戴了六个帽子</td>\n",
       "      <td>2017/12/08</td>\n",
       "    </tr>\n",
       "    <tr>\n",
       "      <th>393</th>\n",
       "      <td>2018/01/18 15:04</td>\n",
       "      <td>364 小赚133  看书  加勒比海盗2  应该理由更充分的拒绝过年去帮工  看永辉  看...</td>\n",
       "      <td>2018/01/18</td>\n",
       "    </tr>\n",
       "    <tr>\n",
       "      <th>394</th>\n",
       "      <td>2018/01/18 17:04</td>\n",
       "      <td>经济账规划</td>\n",
       "      <td>2018/01/18</td>\n",
       "    </tr>\n",
       "  </tbody>\n",
       "</table>\n",
       "</div>"
      ]
     },
     "metadata": {},
     "execution_count": 18
    }
   ],
   "metadata": {}
  },
  {
   "cell_type": "code",
   "execution_count": null,
   "source": [
    "import pandas as pd\r\n",
    "import numpy as np\r\n",
    "from datetime import datetime\r\n",
    "\r\n",
    "# First：找到没有进行创作的日子\r\n",
    "# 1.读取文件 第一行为列名称\r\n",
    "pd.set_option('colheader_justify', 'left')\r\n",
    "df=pd.read_csv('./data/我的抗战1.0_info.csv',header=0,sep=',') \r\n",
    "# 手动修改 日期  \r\n",
    "df"
   ],
   "outputs": [],
   "metadata": {}
  },
  {
   "cell_type": "code",
   "execution_count": null,
   "source": [
    "df = pd.DataFrame(np.array([np.random.randn(6), np.random.randint(1, 9, 6) * 0.1, np.zeros(6)]).T, columns=[\"A\", \"B\", \"C\"],dtype=\"float\",)\r\n",
    "pd.set_option(\"colheader_justify\", \"left\")\r\n",
    "df"
   ],
   "outputs": [],
   "metadata": {}
  },
  {
   "cell_type": "code",
   "execution_count": null,
   "source": [
    "pd.set_option(\"colheader_justify\", \"left\")\r\n",
    "df"
   ],
   "outputs": [],
   "metadata": {}
  }
 ],
 "metadata": {
  "language_info": {
   "name": "python",
   "version": "3.6.5",
   "mimetype": "text/x-python",
   "codemirror_mode": {
    "name": "ipython",
    "version": 3
   },
   "pygments_lexer": "ipython3",
   "nbconvert_exporter": "python",
   "file_extension": ".py"
  },
  "kernelspec": {
   "name": "python3",
   "language": "python",
   "display_name": "Python 3"
  },
  "interpreter": {
   "hash": "ec7c6df8f2f99fa20fbf736f60336ad208c85ecac47a89374b2e832ec7eb482e"
  }
 },
 "nbformat": 4,
 "nbformat_minor": 5
}